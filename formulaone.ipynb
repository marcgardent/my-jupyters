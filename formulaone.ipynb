{
 "cells": [
  {
   "cell_type": "markdown",
   "source": [
    "# Formula One Notebook"
   ],
   "metadata": {
    "collapsed": false
   }
  },
  {
   "cell_type": "markdown",
   "source": [
    "## Import dataset"
   ],
   "metadata": {
    "collapsed": false
   }
  },
  {
   "cell_type": "code",
   "execution_count": 40,
   "outputs": [],
   "source": [
    "import os\n",
    "datasource = 'https://www.kaggle.com/rohanrao/formula-1-world-championship-1950-2020/download'\n",
    "local_source = os.path.join(os.getcwd(),\"dataset.zip\")\n",
    "local_data_path = os.path.join(os.getcwd(), \"data\")\n",
    "drivers_file = os.path.join(local_data_path, \"drivers.csv\")\n",
    "races_file =  os.path.join(local_data_path, \"races.csv\")\n",
    "results_file =  os.path.join(local_data_path, \"results.csv\")"
   ],
   "metadata": {
    "collapsed": false,
    "pycharm": {
     "name": "#%%\n"
    }
   }
  },
  {
   "cell_type": "code",
   "execution_count": 41,
   "outputs": [],
   "source": [
    "#import requests\n",
    "# r = requests.get(datasource)\n",
    "# open(local_source, 'wb').write(r.content)\n",
    "# print(\"data source loaded\")\n"
   ],
   "metadata": {
    "collapsed": false,
    "pycharm": {
     "name": "#%%\n"
    }
   }
  },
  {
   "cell_type": "code",
   "execution_count": 42,
   "outputs": [
    {
     "name": "stdout",
     "output_type": "stream",
     "text": [
      "data source unpacked:\n",
      "* T:\\data\\formulaone\\data\\circuits.csv\n",
      "* T:\\data\\formulaone\\data\\constructors.csv\n",
      "* T:\\data\\formulaone\\data\\constructor_results.csv\n",
      "* T:\\data\\formulaone\\data\\constructor_standings.csv\n",
      "* T:\\data\\formulaone\\data\\drivers.csv\n",
      "* T:\\data\\formulaone\\data\\driver_standings.csv\n",
      "* T:\\data\\formulaone\\data\\lap_times.csv\n",
      "* T:\\data\\formulaone\\data\\pit_stops.csv\n",
      "* T:\\data\\formulaone\\data\\qualifying.csv\n",
      "* T:\\data\\formulaone\\data\\races.csv\n",
      "* T:\\data\\formulaone\\data\\results.csv\n",
      "* T:\\data\\formulaone\\data\\seasons.csv\n",
      "* T:\\data\\formulaone\\data\\status.csv\n"
     ]
    }
   ],
   "source": [
    "\n",
    "import zipfile\n",
    "import shutil\n",
    "import glob\n",
    "\n",
    "if not os.path.exists(local_data_path):\n",
    "    os.mkdir(local_data_path)\n",
    "else:\n",
    "    shutil.rmtree(local_data_path)\n",
    "    os.mkdir(local_data_path)\n",
    "\n",
    "with zipfile.ZipFile(local_source, 'r') as zip_ref:\n",
    "    zip_ref.extractall(local_data_path)\n",
    "\n",
    "print(\"data source unpacked:\")\n",
    "for file in glob.glob(f\"{local_data_path}/*.csv\"):\n",
    "    print(f\"* {file}\")"
   ],
   "metadata": {
    "collapsed": false,
    "pycharm": {
     "name": "#%%\n"
    }
   }
  },
  {
   "cell_type": "markdown",
   "source": [
    "## Load data"
   ],
   "metadata": {
    "collapsed": false
   }
  },
  {
   "cell_type": "code",
   "execution_count": 43,
   "outputs": [
    {
     "name": "stdout",
     "output_type": "stream",
     "text": [
      "854 drivers loaded\n"
     ]
    }
   ],
   "source": [
    "import csv\n",
    "from dataclasses import dataclass\n",
    "\n",
    "@dataclass\n",
    "class Driver:\n",
    "    driverId: str\n",
    "    forename: str\n",
    "    surname: str\n",
    "\n",
    "DRIVERS = dict()\n",
    "\n",
    "with open(drivers_file, mode=\"r\", encoding=\"utf-8\") as csvfile:\n",
    "    reader = csv.DictReader(csvfile)\n",
    "    for row in reader:\n",
    "        DRIVERS[row[\"driverId\"]] = Driver(driverId=row[\"driverId\"], forename=row[\"forename\"], surname=row[\"surname\"])\n",
    "print(f\"{len(DRIVERS)} drivers loaded\")"
   ],
   "metadata": {
    "collapsed": false,
    "pycharm": {
     "name": "#%%\n"
    }
   }
  },
  {
   "cell_type": "code",
   "execution_count": 44,
   "outputs": [
    {
     "name": "stdout",
     "output_type": "stream",
     "text": [
      "1080 races loaded\n"
     ]
    }
   ],
   "source": [
    "import csv\n",
    "from dataclasses import dataclass\n",
    "\n",
    "@dataclass\n",
    "class Race:\n",
    "    raceId: str\n",
    "    year: str\n",
    "    round: str\n",
    "    name: str\n",
    "    date: str\n",
    "    time: str\n",
    "\n",
    "RACES = dict()\n",
    "\n",
    "with open(races_file, mode=\"r\", encoding=\"utf-8\") as csvfile:\n",
    "    reader = csv.DictReader(csvfile)\n",
    "    for row in reader:\n",
    "        RACES[row[\"raceId\"]] = Race(raceId=row[\"raceId\"], year=row[\"year\"], round=row[\"round\"], name=row[\"name\"], date=row[\"date\"], time=row[\"time\"])\n",
    "\n",
    "print(f\"{len(RACES)} races loaded\")\n"
   ],
   "metadata": {
    "collapsed": false,
    "pycharm": {
     "name": "#%%\n"
    }
   }
  }
 ],
 "metadata": {
  "kernelspec": {
   "display_name": "Python 3",
   "language": "python",
   "name": "python3"
  },
  "language_info": {
   "codemirror_mode": {
    "name": "ipython",
    "version": 2
   },
   "file_extension": ".py",
   "mimetype": "text/x-python",
   "name": "python",
   "nbconvert_exporter": "python",
   "pygments_lexer": "ipython2",
   "version": "2.7.6"
  }
 },
 "nbformat": 4,
 "nbformat_minor": 0
}